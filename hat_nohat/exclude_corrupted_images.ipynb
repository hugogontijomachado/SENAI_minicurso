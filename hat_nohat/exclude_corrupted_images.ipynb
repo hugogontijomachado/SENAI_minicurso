{
 "cells": [
  {
   "cell_type": "code",
   "execution_count": 1,
   "metadata": {},
   "outputs": [
    {
     "name": "stdout",
     "output_type": "stream",
     "text": [
      "['com chapeu', 'pessoas', 'sem chapeu']\n"
     ]
    }
   ],
   "source": [
    "import cv2\n",
    "import os\n",
    "\n",
    "path_data='E:\\\\OneDrive\\\\Doutorado\\\\Cursos\\\\FastAI_Pierre\\\\Aula02-30out2019\\\\Atividade\\\\downloads'\n",
    "#print\n",
    "paths= os.listdir(path_data)\n",
    "print(paths)"
   ]
  },
  {
   "cell_type": "code",
   "execution_count": 2,
   "metadata": {
    "scrolled": false
   },
   "outputs": [
    {
     "name": "stdout",
     "output_type": "stream",
     "text": [
      "\t Exclude file: 31.32643.svg\n",
      "\t Exclude file: 46.10982.svg\n"
     ]
    }
   ],
   "source": [
    "for path in paths:\n",
    "    for file in os.listdir(os.path.join(path_data,path)):      \n",
    "        img = cv2.imread(os.path.join(path_data,path,file))\n",
    "        if img is None:\n",
    "            print(\"\\t Exclude file: {}\".format(file))\n",
    "            os.system(\"del {}\".format((os.path.join(path_data,path,file))))"
   ]
  },
  {
   "cell_type": "code",
   "execution_count": null,
   "metadata": {},
   "outputs": [],
   "source": []
  }
 ],
 "metadata": {
  "kernelspec": {
   "display_name": "Python 3",
   "language": "python",
   "name": "python3"
  },
  "language_info": {
   "codemirror_mode": {
    "name": "ipython",
    "version": 3
   },
   "file_extension": ".py",
   "mimetype": "text/x-python",
   "name": "python",
   "nbconvert_exporter": "python",
   "pygments_lexer": "ipython3",
   "version": "3.6.9"
  }
 },
 "nbformat": 4,
 "nbformat_minor": 2
}
